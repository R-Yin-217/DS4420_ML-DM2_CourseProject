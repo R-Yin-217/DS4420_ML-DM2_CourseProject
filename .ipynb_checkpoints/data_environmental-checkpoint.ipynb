{
 "cells": [
  {
   "cell_type": "code",
   "execution_count": 62,
   "id": "ee6aac88-29f4-4f34-8bde-45e7d69dea28",
   "metadata": {},
   "outputs": [
    {
     "name": "stdout",
     "output_type": "stream",
     "text": [
      "Parkland, amenities, and access data extracted from NY4P-Profiles_BK8.pdf and saved to parkland_amenities_access_data.csv\n"
     ]
    }
   ],
   "source": [
    "import fitz  # PyMuPDF\n",
    "import pandas as pd\n",
    "import re  # For regex to clean up non-numeric characters\n",
    "from os import listdir\n",
    "from os.path import isfile, join\n",
    "\n",
    "# Load the PDF\n",
    "\n",
    "\n",
    "folder_path = \"amenities_raw_data\"\n",
    "files = [f for f in listdir(folder_path) if isfile(join(folder_path, f))]\n",
    "count = 0\n",
    "df= pd.DataFrame()\n",
    "for file in files:\n",
    "\n",
    "    pdf = fitz.open(folder_path + \"/\" + file)\n",
    "    code = str(file)[14:16] + \" \" + str(file)[16:-4] + \" Data\"\n",
    "    \n",
    "    # Define data structure for the parkland, amenities, and access data\n",
    "    data = {\n",
    "        \"Neighborhood\": code,\n",
    "        \"Total District Land (acres)\": None,\n",
    "        \"City, State, & Federal Parkland (acres)\": None,\n",
    "        \"Percent Parkland\": None,\n",
    "        \"City Parks in District (acres)\": None,\n",
    "        \"Percent City Parks in District\": None,\n",
    "        \"City Parks in District per 1,000 residents (acres)\": None,\n",
    "        \"Residents within a 5 minute walk of a park\": None,\n",
    "        \"City Parks in District per 1,000 children (acres)\": None,\n",
    "        \"City Parks in District per 1,000 seniors (acres)\": None,\n",
    "        \"Community Gardens\": None,\n",
    "        \"Recreation Centers\": None,\n",
    "        \"Playgrounds\": None,\n",
    "        \"Swimming Pools\": None,\n",
    "        \"Dog Runs\": None,\n",
    "        \"Sprayshowers\": None,\n",
    "        \"Public Schools\": None,\n",
    "        \"Parks 'Acceptable' for Condition\": None,\n",
    "        \"Parks 'Acceptable' for Cleanliness\": None,\n",
    "        \"Park-Related 311 calls per 1,000 residents\": None,\n",
    "        \"Park Volunteer Groups\": None\n",
    "    }\n",
    "    # Extract text from each page and populate data\n",
    "    page = pdf[1]\n",
    "    text = page.get_text().splitlines()\n",
    "    \n",
    "\n",
    "    # Extract each metric based on its unique label\n",
    "    data[\"Total District Land (acres)\"] = text[-20]\n",
    "    data[\"City, State, & Federal Parkland (acres)\"] = text[-19]\n",
    "    data[\"Percent Parkland\"] = text[-18]\n",
    "    data[\"City Parks in District (acres)\"] = text[-17]\n",
    "    data[\"Percent City Parks in District\"] = text[-16]\n",
    "    data[\"City Parks in District per 1,000 residents (acres)\"] = text[-15]\n",
    "    data[\"Residents within a 5 minute walk of a park\"] = text[-14]\n",
    "    data[\"City Parks in District per 1,000 children (acres)\"] = text[-13]\n",
    "    data[\"City Parks in District per 1,000 seniors (acres)\"] = text[-12]\n",
    "    data[\"Community Gardens\"] = text[-11]\n",
    "    data[\"Recreation Centers\"] = text[-10]\n",
    "    data[\"Playgrounds\"] = text[-9]\n",
    "    data[\"Swimming Pools\"] = text[-8]\n",
    "    data[\"Dog Runs\"] = text[-7]\n",
    "    data[\"Sprayshowers\"] = text[-6]\n",
    "    data[\"Public Schools\"] = text[-5]\n",
    "    data[\"Parks 'Acceptable' for Condition\"] = text[-4]\n",
    "    data[\"Parks 'Acceptable' for Cleanliness\"] = text[-3]\n",
    "    data[\"Park-Related 311 calls per 1,000 residents\"] = text[-2]\n",
    "    data[\"Park Volunteer Groups\"] = text[-1]\n",
    "    df = pd.concat([df, pd.DataFrame([data])], ignore_index=True)\n",
    "\n",
    "    \n",
    "    # Convert data to a DataFrame\n",
    "    \n",
    "    \n",
    "    \n",
    "    # for page_num in range(pdf.page_count):\n",
    "    #     page = pdf[page_num]\n",
    "    #     text = page.get_text().splitlines()\n",
    "    #     print(text)\n",
    "\n",
    "pdf.close()\n",
    "\n",
    "\n",
    "# Save to CSV\n",
    "output_csv_path = \"parkland_amenities_access_data.csv\"\n",
    "df.to_csv(output_csv_path, index=False)\n",
    "\n",
    "print(f\"Parkland, amenities, and access data extracted from {file} and saved to {output_csv_path}\")"
   ]
  },
  {
   "cell_type": "code",
   "execution_count": 63,
   "id": "4a4d871e-4fc5-4423-8132-ff4f698d5824",
   "metadata": {},
   "outputs": [
    {
     "ename": "ValueError",
     "evalue": "columns overlap but no suffix specified: Index(['Total District Land (acres)',\n       'City, State, & Federal Parkland (acres)', 'Percent Parkland',\n       'City Parks in District (acres)', 'Percent City Parks in District',\n       'City Parks in District per 1,000 residents (acres)',\n       'Residents within a 5 minute walk of a park',\n       'City Parks in District per 1,000 children (acres)',\n       'City Parks in District per 1,000 seniors (acres)', 'Community Gardens',\n       'Recreation Centers', 'Playgrounds', 'Swimming Pools', 'Dog Runs',\n       'Sprayshowers', 'Public Schools', 'Parks 'Acceptable' for Condition',\n       'Parks 'Acceptable' for Cleanliness',\n       'Park-Related 311 calls per 1,000 residents', 'Park Volunteer Groups'],\n      dtype='object')",
     "output_type": "error",
     "traceback": [
      "\u001b[0;31m---------------------------------------------------------------------------\u001b[0m",
      "\u001b[0;31mValueError\u001b[0m                                Traceback (most recent call last)",
      "Cell \u001b[0;32mIn[63], line 7\u001b[0m\n\u001b[1;32m      5\u001b[0m furman \u001b[38;5;241m=\u001b[39m pd\u001b[38;5;241m.\u001b[39mread_csv(output_csv_path, index_col \u001b[38;5;241m=\u001b[39m \u001b[38;5;241m0\u001b[39m)\n\u001b[1;32m      6\u001b[0m amenities \u001b[38;5;241m=\u001b[39m pd\u001b[38;5;241m.\u001b[39mread_csv(amenities_path, index_col \u001b[38;5;241m=\u001b[39m \u001b[38;5;241m0\u001b[39m)\n\u001b[0;32m----> 7\u001b[0m df \u001b[38;5;241m=\u001b[39m furman\u001b[38;5;241m.\u001b[39mjoin(amenities)\u001b[38;5;241m.\u001b[39mto_csv(\u001b[38;5;124m\"\u001b[39m\u001b[38;5;124mfeature_dataset/dataset_joined.csv\u001b[39m\u001b[38;5;124m\"\u001b[39m)\n",
      "File \u001b[0;32m~/anaconda3/lib/python3.12/site-packages/pandas/core/frame.py:10757\u001b[0m, in \u001b[0;36mDataFrame.join\u001b[0;34m(self, other, on, how, lsuffix, rsuffix, sort, validate)\u001b[0m\n\u001b[1;32m  10747\u001b[0m     \u001b[38;5;28;01mif\u001b[39;00m how \u001b[38;5;241m==\u001b[39m \u001b[38;5;124m\"\u001b[39m\u001b[38;5;124mcross\u001b[39m\u001b[38;5;124m\"\u001b[39m:\n\u001b[1;32m  10748\u001b[0m         \u001b[38;5;28;01mreturn\u001b[39;00m merge(\n\u001b[1;32m  10749\u001b[0m             \u001b[38;5;28mself\u001b[39m,\n\u001b[1;32m  10750\u001b[0m             other,\n\u001b[0;32m   (...)\u001b[0m\n\u001b[1;32m  10755\u001b[0m             validate\u001b[38;5;241m=\u001b[39mvalidate,\n\u001b[1;32m  10756\u001b[0m         )\n\u001b[0;32m> 10757\u001b[0m     \u001b[38;5;28;01mreturn\u001b[39;00m merge(\n\u001b[1;32m  10758\u001b[0m         \u001b[38;5;28mself\u001b[39m,\n\u001b[1;32m  10759\u001b[0m         other,\n\u001b[1;32m  10760\u001b[0m         left_on\u001b[38;5;241m=\u001b[39mon,\n\u001b[1;32m  10761\u001b[0m         how\u001b[38;5;241m=\u001b[39mhow,\n\u001b[1;32m  10762\u001b[0m         left_index\u001b[38;5;241m=\u001b[39mon \u001b[38;5;129;01mis\u001b[39;00m \u001b[38;5;28;01mNone\u001b[39;00m,\n\u001b[1;32m  10763\u001b[0m         right_index\u001b[38;5;241m=\u001b[39m\u001b[38;5;28;01mTrue\u001b[39;00m,\n\u001b[1;32m  10764\u001b[0m         suffixes\u001b[38;5;241m=\u001b[39m(lsuffix, rsuffix),\n\u001b[1;32m  10765\u001b[0m         sort\u001b[38;5;241m=\u001b[39msort,\n\u001b[1;32m  10766\u001b[0m         validate\u001b[38;5;241m=\u001b[39mvalidate,\n\u001b[1;32m  10767\u001b[0m     )\n\u001b[1;32m  10768\u001b[0m \u001b[38;5;28;01melse\u001b[39;00m:\n\u001b[1;32m  10769\u001b[0m     \u001b[38;5;28;01mif\u001b[39;00m on \u001b[38;5;129;01mis\u001b[39;00m \u001b[38;5;129;01mnot\u001b[39;00m \u001b[38;5;28;01mNone\u001b[39;00m:\n",
      "File \u001b[0;32m~/anaconda3/lib/python3.12/site-packages/pandas/core/reshape/merge.py:184\u001b[0m, in \u001b[0;36mmerge\u001b[0;34m(left, right, how, on, left_on, right_on, left_index, right_index, sort, suffixes, copy, indicator, validate)\u001b[0m\n\u001b[1;32m    169\u001b[0m \u001b[38;5;28;01melse\u001b[39;00m:\n\u001b[1;32m    170\u001b[0m     op \u001b[38;5;241m=\u001b[39m _MergeOperation(\n\u001b[1;32m    171\u001b[0m         left_df,\n\u001b[1;32m    172\u001b[0m         right_df,\n\u001b[0;32m   (...)\u001b[0m\n\u001b[1;32m    182\u001b[0m         validate\u001b[38;5;241m=\u001b[39mvalidate,\n\u001b[1;32m    183\u001b[0m     )\n\u001b[0;32m--> 184\u001b[0m     \u001b[38;5;28;01mreturn\u001b[39;00m op\u001b[38;5;241m.\u001b[39mget_result(copy\u001b[38;5;241m=\u001b[39mcopy)\n",
      "File \u001b[0;32m~/anaconda3/lib/python3.12/site-packages/pandas/core/reshape/merge.py:888\u001b[0m, in \u001b[0;36m_MergeOperation.get_result\u001b[0;34m(self, copy)\u001b[0m\n\u001b[1;32m    884\u001b[0m     \u001b[38;5;28mself\u001b[39m\u001b[38;5;241m.\u001b[39mleft, \u001b[38;5;28mself\u001b[39m\u001b[38;5;241m.\u001b[39mright \u001b[38;5;241m=\u001b[39m \u001b[38;5;28mself\u001b[39m\u001b[38;5;241m.\u001b[39m_indicator_pre_merge(\u001b[38;5;28mself\u001b[39m\u001b[38;5;241m.\u001b[39mleft, \u001b[38;5;28mself\u001b[39m\u001b[38;5;241m.\u001b[39mright)\n\u001b[1;32m    886\u001b[0m join_index, left_indexer, right_indexer \u001b[38;5;241m=\u001b[39m \u001b[38;5;28mself\u001b[39m\u001b[38;5;241m.\u001b[39m_get_join_info()\n\u001b[0;32m--> 888\u001b[0m result \u001b[38;5;241m=\u001b[39m \u001b[38;5;28mself\u001b[39m\u001b[38;5;241m.\u001b[39m_reindex_and_concat(\n\u001b[1;32m    889\u001b[0m     join_index, left_indexer, right_indexer, copy\u001b[38;5;241m=\u001b[39mcopy\n\u001b[1;32m    890\u001b[0m )\n\u001b[1;32m    891\u001b[0m result \u001b[38;5;241m=\u001b[39m result\u001b[38;5;241m.\u001b[39m__finalize__(\u001b[38;5;28mself\u001b[39m, method\u001b[38;5;241m=\u001b[39m\u001b[38;5;28mself\u001b[39m\u001b[38;5;241m.\u001b[39m_merge_type)\n\u001b[1;32m    893\u001b[0m \u001b[38;5;28;01mif\u001b[39;00m \u001b[38;5;28mself\u001b[39m\u001b[38;5;241m.\u001b[39mindicator:\n",
      "File \u001b[0;32m~/anaconda3/lib/python3.12/site-packages/pandas/core/reshape/merge.py:840\u001b[0m, in \u001b[0;36m_MergeOperation._reindex_and_concat\u001b[0;34m(self, join_index, left_indexer, right_indexer, copy)\u001b[0m\n\u001b[1;32m    837\u001b[0m left \u001b[38;5;241m=\u001b[39m \u001b[38;5;28mself\u001b[39m\u001b[38;5;241m.\u001b[39mleft[:]\n\u001b[1;32m    838\u001b[0m right \u001b[38;5;241m=\u001b[39m \u001b[38;5;28mself\u001b[39m\u001b[38;5;241m.\u001b[39mright[:]\n\u001b[0;32m--> 840\u001b[0m llabels, rlabels \u001b[38;5;241m=\u001b[39m _items_overlap_with_suffix(\n\u001b[1;32m    841\u001b[0m     \u001b[38;5;28mself\u001b[39m\u001b[38;5;241m.\u001b[39mleft\u001b[38;5;241m.\u001b[39m_info_axis, \u001b[38;5;28mself\u001b[39m\u001b[38;5;241m.\u001b[39mright\u001b[38;5;241m.\u001b[39m_info_axis, \u001b[38;5;28mself\u001b[39m\u001b[38;5;241m.\u001b[39msuffixes\n\u001b[1;32m    842\u001b[0m )\n\u001b[1;32m    844\u001b[0m \u001b[38;5;28;01mif\u001b[39;00m left_indexer \u001b[38;5;129;01mis\u001b[39;00m \u001b[38;5;129;01mnot\u001b[39;00m \u001b[38;5;28;01mNone\u001b[39;00m \u001b[38;5;129;01mand\u001b[39;00m \u001b[38;5;129;01mnot\u001b[39;00m is_range_indexer(left_indexer, \u001b[38;5;28mlen\u001b[39m(left)):\n\u001b[1;32m    845\u001b[0m     \u001b[38;5;66;03m# Pinning the index here (and in the right code just below) is not\u001b[39;00m\n\u001b[1;32m    846\u001b[0m     \u001b[38;5;66;03m#  necessary, but makes the `.take` more performant if we have e.g.\u001b[39;00m\n\u001b[1;32m    847\u001b[0m     \u001b[38;5;66;03m#  a MultiIndex for left.index.\u001b[39;00m\n\u001b[1;32m    848\u001b[0m     lmgr \u001b[38;5;241m=\u001b[39m left\u001b[38;5;241m.\u001b[39m_mgr\u001b[38;5;241m.\u001b[39mreindex_indexer(\n\u001b[1;32m    849\u001b[0m         join_index,\n\u001b[1;32m    850\u001b[0m         left_indexer,\n\u001b[0;32m   (...)\u001b[0m\n\u001b[1;32m    855\u001b[0m         use_na_proxy\u001b[38;5;241m=\u001b[39m\u001b[38;5;28;01mTrue\u001b[39;00m,\n\u001b[1;32m    856\u001b[0m     )\n",
      "File \u001b[0;32m~/anaconda3/lib/python3.12/site-packages/pandas/core/reshape/merge.py:2721\u001b[0m, in \u001b[0;36m_items_overlap_with_suffix\u001b[0;34m(left, right, suffixes)\u001b[0m\n\u001b[1;32m   2718\u001b[0m lsuffix, rsuffix \u001b[38;5;241m=\u001b[39m suffixes\n\u001b[1;32m   2720\u001b[0m \u001b[38;5;28;01mif\u001b[39;00m \u001b[38;5;129;01mnot\u001b[39;00m lsuffix \u001b[38;5;129;01mand\u001b[39;00m \u001b[38;5;129;01mnot\u001b[39;00m rsuffix:\n\u001b[0;32m-> 2721\u001b[0m     \u001b[38;5;28;01mraise\u001b[39;00m \u001b[38;5;167;01mValueError\u001b[39;00m(\u001b[38;5;124mf\u001b[39m\u001b[38;5;124m\"\u001b[39m\u001b[38;5;124mcolumns overlap but no suffix specified: \u001b[39m\u001b[38;5;132;01m{\u001b[39;00mto_rename\u001b[38;5;132;01m}\u001b[39;00m\u001b[38;5;124m\"\u001b[39m)\n\u001b[1;32m   2723\u001b[0m \u001b[38;5;28;01mdef\u001b[39;00m \u001b[38;5;21mrenamer\u001b[39m(x, suffix: \u001b[38;5;28mstr\u001b[39m \u001b[38;5;241m|\u001b[39m \u001b[38;5;28;01mNone\u001b[39;00m):\n\u001b[1;32m   2724\u001b[0m \u001b[38;5;250m    \u001b[39m\u001b[38;5;124;03m\"\"\"\u001b[39;00m\n\u001b[1;32m   2725\u001b[0m \u001b[38;5;124;03m    Rename the left and right indices.\u001b[39;00m\n\u001b[1;32m   2726\u001b[0m \n\u001b[0;32m   (...)\u001b[0m\n\u001b[1;32m   2737\u001b[0m \u001b[38;5;124;03m    x : renamed column name\u001b[39;00m\n\u001b[1;32m   2738\u001b[0m \u001b[38;5;124;03m    \"\"\"\u001b[39;00m\n",
      "\u001b[0;31mValueError\u001b[0m: columns overlap but no suffix specified: Index(['Total District Land (acres)',\n       'City, State, & Federal Parkland (acres)', 'Percent Parkland',\n       'City Parks in District (acres)', 'Percent City Parks in District',\n       'City Parks in District per 1,000 residents (acres)',\n       'Residents within a 5 minute walk of a park',\n       'City Parks in District per 1,000 children (acres)',\n       'City Parks in District per 1,000 seniors (acres)', 'Community Gardens',\n       'Recreation Centers', 'Playgrounds', 'Swimming Pools', 'Dog Runs',\n       'Sprayshowers', 'Public Schools', 'Parks 'Acceptable' for Condition',\n       'Parks 'Acceptable' for Cleanliness',\n       'Park-Related 311 calls per 1,000 residents', 'Park Volunteer Groups'],\n      dtype='object')"
     ]
    }
   ],
   "source": [
    "#Add to feature dataset\n",
    "\n",
    "furman_path = \"feature_dataset/year_dataset/dataset_2023.csv\"\n",
    "amenities_path = \"parkland_amenities_access_data.csv\"\n",
    "furman = pd.read_csv(output_csv_path, index_col = 0)\n",
    "amenities = pd.read_csv(amenities_path, index_col = 0)\n",
    "df_concatenated = pd.concat([df1, df2], axis=1)\n",
    "\n",
    "df_concatenated.to_csv(\"feature_dataset/dataset_joined.csv\")"
   ]
  },
  {
   "cell_type": "code",
   "execution_count": null,
   "id": "be0c50b4-f48b-4d2c-b201-a47544f6454b",
   "metadata": {},
   "outputs": [],
   "source": []
  }
 ],
 "metadata": {
  "kernelspec": {
   "display_name": "Python 3 (ipykernel)",
   "language": "python",
   "name": "python3"
  },
  "language_info": {
   "codemirror_mode": {
    "name": "ipython",
    "version": 3
   },
   "file_extension": ".py",
   "mimetype": "text/x-python",
   "name": "python",
   "nbconvert_exporter": "python",
   "pygments_lexer": "ipython3",
   "version": "3.12.4"
  }
 },
 "nbformat": 4,
 "nbformat_minor": 5
}
