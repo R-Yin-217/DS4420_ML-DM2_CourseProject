{
 "cells": [
  {
   "cell_type": "code",
   "execution_count": 2,
   "metadata": {},
   "outputs": [],
   "source": [
    "import pandas as pd\n",
    "import os"
   ]
  },
  {
   "cell_type": "markdown",
   "metadata": {},
   "source": [
    "# Turn XLSX into CSV"
   ]
  },
  {
   "cell_type": "code",
   "execution_count": 3,
   "metadata": {},
   "outputs": [
    {
     "name": "stdout",
     "output_type": "stream",
     "text": [
      "Second sheet in QN05_NeighborhoodDataProfile.xlsx is saved as QN 05 Data.csv\n",
      "Second sheet in BK04_NeighborhoodDataProfile.xlsx is saved as BK 04 Data.csv\n",
      "Second sheet in BK11_NeighborhoodDataProfile.xlsx is saved as BK 11 Data.csv\n",
      "Second sheet in BK07_NeighborhoodDataProfile.xlsx is saved as BK 07 Data.csv\n",
      "Second sheet in MN02_NeighborhoodDataProfile.xlsx is saved as MN 02 Data.csv\n",
      "Second sheet in QN06_NeighborhoodDataProfile.xlsx is saved as QN 06 Data.csv\n",
      "Second sheet in BK01_NeighborhoodDataProfile.xlsx is saved as BK 01 Data.csv\n",
      "Second sheet in BK14_NeighborhoodDataProfile.xlsx is saved as BK 14 Data.csv\n",
      "Second sheet in MN11_NeighborhoodDataProfile.xlsx is saved as MN 11 Data.csv\n",
      "Second sheet in QN03_NeighborhoodDataProfile.xlsx is saved as QN 03 Data.csv\n",
      "Second sheet in MN12_NeighborhoodDataProfile.xlsx is saved as MN 12 Data.csv\n",
      "Second sheet in BK17_NeighborhoodDataProfile.xlsx is saved as BK 17 Data.csv\n",
      "Second sheet in MN07_NeighborhoodDataProfile.xlsx is saved as MN 07 Data.csv\n",
      "Second sheet in BK02_NeighborhoodDataProfile.xlsx is saved as BK 02 Data.csv\n",
      "Second sheet in QN02_NeighborhoodDataProfile.xlsx is saved as QN 02 Data.csv\n",
      "Second sheet in BK03_NeighborhoodDataProfile.xlsx is saved as BK 03 Data.csv\n",
      "Second sheet in MN08_NeighborhoodDataProfile.xlsx is saved as MN 08 Data.csv\n",
      "Second sheet in MN10_NeighborhoodDataProfile.xlsx is saved as MN 10 Data.csv\n",
      "Second sheet in BK15_NeighborhoodDataProfile.xlsx is saved as BK 15 Data.csv\n",
      "Second sheet in QN14_NeighborhoodDataProfile.xlsx is saved as QN 14 Data.csv\n",
      "Second sheet in QN01_NeighborhoodDataProfile.xlsx is saved as QN 01 Data.csv\n",
      "Second sheet in BK08_NeighborhoodDataProfile.xlsx is saved as BK 08 Data.csv\n",
      "Second sheet in MN03_NeighborhoodDataProfile.xlsx is saved as MN 03 Data.csv\n",
      "Second sheet in BK06_NeighborhoodDataProfile.xlsx is saved as BK 06 Data.csv\n",
      "Second sheet in BK13_NeighborhoodDataProfile.xlsx is saved as BK 13 Data.csv\n",
      "Second sheet in QN09_NeighborhoodDataProfile.xlsx is saved as QN 09 Data.csv\n",
      "Second sheet in QN07_NeighborhoodDataProfile.xlsx is saved as QN 07 Data.csv\n",
      "Second sheet in QN12_NeighborhoodDataProfile.xlsx is saved as QN 12 Data.csv\n",
      "Second sheet in QN04_NeighborhoodDataProfile.xlsx is saved as QN 04 Data.csv\n",
      "Second sheet in BK10_NeighborhoodDataProfile.xlsx is saved as BK 10 Data.csv\n"
     ]
    }
   ],
   "source": [
    "# define paths\n",
    "input_folder = 'FURMAN'  \n",
    "output_folder = 'FURMAN_csv' \n",
    "\n",
    "# if there is a output folder\n",
    "if not os.path.exists(output_folder):\n",
    "    raise ValueError(\"There is not an output folder!\")\n",
    "\n",
    "# loop in the input_folder\n",
    "for filename in os.listdir(input_folder):\n",
    "    if filename.endswith('.xlsx'):  # only xlsx files\n",
    "        file_path = os.path.join(input_folder, filename)\n",
    "\n",
    "        # import Excel files\n",
    "        excel_data = pd.ExcelFile(file_path)\n",
    "\n",
    "        # only save the second sheet as csv file\n",
    "        if len(excel_data.sheet_names) >= 3:\n",
    "            # get the second sheet name and import it\n",
    "            second_sheet = pd.read_excel(file_path, sheet_name=excel_data.sheet_names[1])\n",
    "\n",
    "            # get and set output file name\n",
    "            output_filename = f\"{excel_data.sheet_names[1]}.csv\"\n",
    "            output_path = os.path.join(output_folder, output_filename)\n",
    "\n",
    "            # save as csv\n",
    "            second_sheet.to_csv(output_path, index=False, encoding='utf-8')\n",
    "\n",
    "            print(f\"Second sheet in {filename} is saved as {output_filename}\")"
   ]
  },
  {
   "cell_type": "code",
   "execution_count": null,
   "metadata": {},
   "outputs": [],
   "source": [
    "csv_folder = 'FURMAN_csv'  \n",
    "\n",
    "# a list to save data\n",
    "dfs = []\n",
    "\n",
    "# loop in the csv_folder\n",
    "for filename in os.listdir(csv_folder):\n",
    "    if filename.endswith('.csv'):\n",
    "        file_path = os.path.join(csv_folder, filename)\n",
    "        district_name = os.path.splitext(filename)[0]\n",
    "        \n",
    "        # import csv file\n",
    "        df = pd.read_csv(file_path)\n",
    "        community_name = df.iloc[0]['Name']\n",
    "\n",
    "        # choose rows needed\n",
    "        df_selected = df[['Indicator', '2000', '2006', '2010', '2019', '2021', '2022', '2023']]\n",
    "\n",
    "        # transpose the data\n",
    "        df_transposed = df_selected.set_index('Indicator').transpose()\n",
    "\n",
    "        # inset 'Area' after 'Indicator'\n",
    "        df_transposed.insert(0, 'Community District', district_name)\n",
    "        df_transposed.insert(1, 'Name', community_name)\n",
    "\n",
    "        dfs.append(df_transposed)"
   ]
  },
  {
   "cell_type": "code",
   "execution_count": 5,
   "metadata": {},
   "outputs": [],
   "source": [
    "# define an dictionary, which contain the year and index\n",
    "Year = {'2000':0, '2006':0, '2010':0, '2019':0, '2021':0, '2022':0, '2023':0}"
   ]
  },
  {
   "cell_type": "code",
   "execution_count": 6,
   "metadata": {},
   "outputs": [],
   "source": [
    "# generate dataset for each year\n",
    "for year in Year:\n",
    "    datasets = []\n",
    "    for i in range(0,len(dfs)):\n",
    "        datasets.append(dfs[i].iloc[Year[year]])\n",
    "    Year_dataset = pd.DataFrame(datasets).reset_index(drop=True)\n",
    "    Year_dataset = Year_dataset.sort_values(by='Community District').reset_index(drop=True)\n",
    "    Year_dataset.to_csv(f'feature_dataset/dataset_{year}', index=False, encoding='utf-8')"
   ]
  }
 ],
 "metadata": {
  "kernelspec": {
   "display_name": "Python 3",
   "language": "python",
   "name": "python3"
  },
  "language_info": {
   "codemirror_mode": {
    "name": "ipython",
    "version": 3
   },
   "file_extension": ".py",
   "mimetype": "text/x-python",
   "name": "python",
   "nbconvert_exporter": "python",
   "pygments_lexer": "ipython3",
   "version": "3.9.18"
  }
 },
 "nbformat": 4,
 "nbformat_minor": 2
}
