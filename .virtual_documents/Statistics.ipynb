import pandas as pd
import matplotlib.pyplot as plt
import seaborn as sns


afinn = pd.read_csv('sentiment_result/afinn_sentiment.csv')
textbolb = pd.read_csv('sentiment_result/textbolb_sentiment.csv')
vader = pd.read_csv('sentiment_result/vader_sentiment.csv')


textbolb.head()


# make negative value to zero
afinn['SentimentScore'] = afinn['SentimentScore'].clip(lower = 0)
vader['OverallScore'] = vader['OverallScore'].clip(lower = 0)

# regulize the data
x = afinn['SentimentScore'].sum()
y = textbolb['PolarityScore'].sum()
z = textbolb['SubjectivityScore'].sum()
w = vader['OverallScore'].sum()

afinn['SentimentScore'] /= x
textbolb['PolarityScore'] /= w
textbolb['SubjectivityScore'] /= w
vader['OverallScore'] /= z


merge = vader.merge(textbolb,on='Neighborhood').merge(afinn,on='Neighborhood')


merge


# plot
fig, ax = plt.subplots(figsize=(24, 10))
merge.set_index("Neighborhood").plot(kind="bar", ax=ax)
ax.set_xlabel("Neighborhood")
ax.set_ylabel("SentimentScore")
plt.ylim(bottom = 0)
plt.xticks(rotation=45)
plt.legend()
plt.tight_layout()
plt.grid()
plt.savefig('Overview.png')
plt.show()


data = merge[~merge['Neighborhood'].str.isdigit()]
# caculate correlation matrix
correlation_matrix = data.corr()
print("Correlation Matrix:\n", correlation_matrix)

# visualization
plt.figure(figsize=(8, 6))
sns.heatmap(correlation_matrix, annot=True, cmap='coolwarm', vmin=-1, vmax=1)
plt.title('Correlation Matrix')
plt.savefig('Correlation_matrix.png')
plt.show()









