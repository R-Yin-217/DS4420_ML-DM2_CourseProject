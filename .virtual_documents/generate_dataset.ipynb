import pandas as pd
import os





# define paths
input_folder = 'FURMAN'  
output_folder = 'FURMAN_csv' 

# if there is a output folder
if not os.path.exists(output_folder):
    raise ValueError("There is not an output folder!")

# loop in the input_folder
for filename in os.listdir(input_folder):
    if filename.endswith('.xlsx'):  # only xlsx files
        file_path = os.path.join(input_folder, filename)

        # import Excel files
        excel_data = pd.ExcelFile(file_path)

        # only save the second sheet as csv file
        if len(excel_data.sheet_names) >= 3:
            # get the second sheet name and import it
            second_sheet = pd.read_excel(file_path, sheet_name=excel_data.sheet_names[1])

            # get and set output file name
            output_filename = f"{excel_data.sheet_names[1]}.csv"
            output_path = os.path.join(output_folder, output_filename)

            # save as csv
            second_sheet.to_csv(output_path, index=False, encoding='utf-8')

            print(f"Second sheet in {filename} is saved as {output_filename}")


csv_folder = 'FURMAN_csv'  

# a list to save data
dfs = []

# loop in the csv_folder
for filename in os.listdir(csv_folder):
    if filename.endswith('.csv'):
        file_path = os.path.join(csv_folder, filename)
        district_name = os.path.splitext(filename)[0]
        
        # import csv file
        df = pd.read_csv(file_path)
        community_name = df.iloc[0]['Name']

        # choose rows needed
        df_selected = df[['Indicator', '2000', '2006', '2010', '2019', '2021', '2022', '2023']]

        # データを転置
        df_transposed = df_selected.set_index('Indicator').transpose()

        # `Indicator`の次に`Area`を挿入
        df_transposed.insert(0, 'Community District', district_name)
        df_transposed.insert(1, 'Name', community_name)


        # リストに追加
        dfs.append(df_transposed)


# define an dictionary, which contain the year and index
Year = {'2000':0, '2006':0, '2010':0, '2019':0, '2021':0, '2022':0, '2023':0}


# generate dataset for each year
for year in Year:
    datasets = []
    for i in range(0,len(dfs)):
        datasets.append(dfs[i].iloc[Year[year]])
    Year_dataset = pd.DataFrame(datasets).reset_index(drop=True)
    Year_dataset = Year_dataset.sort_values(by='Community District').reset_index(drop=True)
    Year_dataset.to_csv(f'feature_dataset/dataset_{year}', index=False, encoding='utf-8')
