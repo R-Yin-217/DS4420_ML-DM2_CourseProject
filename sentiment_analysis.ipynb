{
 "cells": [
  {
   "cell_type": "code",
   "execution_count": 92,
   "metadata": {},
   "outputs": [
    {
     "ename": "ModuleNotFoundError",
     "evalue": "No module named 'seaborn'",
     "output_type": "error",
     "traceback": [
      "\u001b[0;31m---------------------------------------------------------------------------\u001b[0m",
      "\u001b[0;31mModuleNotFoundError\u001b[0m                       Traceback (most recent call last)",
      "Cell \u001b[0;32mIn[92], line 2\u001b[0m\n\u001b[1;32m      1\u001b[0m \u001b[38;5;28;01mimport\u001b[39;00m \u001b[38;5;21;01mpandas\u001b[39;00m \u001b[38;5;28;01mas\u001b[39;00m \u001b[38;5;21;01mpd\u001b[39;00m\n\u001b[0;32m----> 2\u001b[0m \u001b[38;5;28;01mimport\u001b[39;00m \u001b[38;5;21;01mseaborn\u001b[39;00m \u001b[38;5;28;01mas\u001b[39;00m \u001b[38;5;21;01msns\u001b[39;00m\n",
      "\u001b[0;31mModuleNotFoundError\u001b[0m: No module named 'seaborn'"
     ]
    }
   ],
   "source": [
    "import pandas as pd"
   ]
  },
  {
   "cell_type": "code",
   "execution_count": 85,
   "metadata": {},
   "outputs": [],
   "source": [
    "df = pd.read_csv('sentiment_dataset/reddit_data.csv')"
   ]
  },
  {
   "cell_type": "markdown",
   "metadata": {},
   "source": [
    "# VaderSentiment"
   ]
  },
  {
   "cell_type": "code",
   "execution_count": 86,
   "metadata": {},
   "outputs": [],
   "source": [
    "from vaderSentiment.vaderSentiment import SentimentIntensityAnalyzer\n",
    "# Initialize the sentiment analyzer\n",
    "analyzer = SentimentIntensityAnalyzer()"
   ]
  },
  {
   "cell_type": "code",
   "execution_count": 87,
   "metadata": {},
   "outputs": [],
   "source": [
    "# Using texts for sentiment analysis\n",
    "neighborhood_score = {}\n",
    "for index, row in df.iterrows():\n",
    "    sentiment = analyzer.polarity_scores(row['text'])\n",
    "    if row['neighborhood'] in neighborhood_score.keys():\n",
    "        neighborhood_score[row['neighborhood']] += sentiment['compound']\n",
    "    else:\n",
    "        neighborhood_score[row['neighborhood']] = 0\n",
    "        neighborhood_score[row['neighborhood']] += sentiment['compound']"
   ]
  },
  {
   "cell_type": "code",
   "execution_count": 88,
   "metadata": {},
   "outputs": [],
   "source": [
    "# take the avergae\n",
    "for area in neighborhood_score:\n",
    "    count = df[df['neighborhood'] == area].shape[0]\n",
    "    neighborhood_score[area] /= count"
   ]
  },
  {
   "cell_type": "code",
   "execution_count": 90,
   "metadata": {},
   "outputs": [],
   "source": [
    "# make dataframe\n",
    "df_vader = pd.DataFrame(list(neighborhood_score.items()), columns=['Neighborhood', 'OverallScore'])\n",
    "df_vader = df_vader.sort_values(by='OverallScore',ascending = False).reset_index(drop=True)"
   ]
  },
  {
   "cell_type": "code",
   "execution_count": 91,
   "metadata": {},
   "outputs": [],
   "source": [
    "# save\n",
    "vader_path = 'sentiment_result/vader_sentiment.csv'\n",
    "df_vader.to_csv(vader_path, index=False)"
   ]
  },
  {
   "cell_type": "markdown",
   "metadata": {},
   "source": [
    "# TextBlob"
   ]
  },
  {
   "cell_type": "code",
   "execution_count": 73,
   "metadata": {},
   "outputs": [],
   "source": [
    "from textblob import TextBlob"
   ]
  },
  {
   "cell_type": "code",
   "execution_count": 74,
   "metadata": {},
   "outputs": [],
   "source": [
    "# Using texts for sentiment analysis\n",
    "polarity_score = {}\n",
    "subjectivity_score = {}\n",
    "for index, row in df.iterrows():\n",
    "    blob = TextBlob(row['text'])\n",
    "    sentiment = blob.sentiment\n",
    "    if row['neighborhood'] in polarity_score.keys():\n",
    "        polarity_score[row['neighborhood']] += sentiment.polarity\n",
    "        subjectivity_score[row['neighborhood']] += sentiment.subjectivity\n",
    "    else:\n",
    "        polarity_score[row['neighborhood']] = 0\n",
    "        polarity_score[row['neighborhood']] += sentiment.polarity\n",
    "        subjectivity_score[row['neighborhood']] = 0\n",
    "        subjectivity_score[row['neighborhood']] += sentiment.subjectivity"
   ]
  },
  {
   "cell_type": "code",
   "execution_count": 75,
   "metadata": {},
   "outputs": [],
   "source": [
    "# take the average\n",
    "for area in polarity_score:\n",
    "    count = df[df['neighborhood'] == area].shape[0]\n",
    "    polarity_score[area] /= count\n",
    "    subjectivity_score[area] /= count"
   ]
  },
  {
   "cell_type": "code",
   "execution_count": 76,
   "metadata": {},
   "outputs": [],
   "source": [
    "area_list = []\n",
    "for area in polarity_score:\n",
    "    area_list.append(tuple([area,polarity_score[area],subjectivity_score[area]]))"
   ]
  },
  {
   "cell_type": "code",
   "execution_count": 77,
   "metadata": {},
   "outputs": [],
   "source": [
    "# make dataframe\n",
    "df_textbolb = pd.DataFrame(area_list, columns=['Neighborhood', 'PolarityScore','SubjectivityScore'])\n",
    "df_textbolb = df_textbolb.sort_values(by='PolarityScore',ascending = False).reset_index(drop=True)"
   ]
  },
  {
   "cell_type": "code",
   "execution_count": 78,
   "metadata": {},
   "outputs": [],
   "source": [
    "# save\n",
    "textbolb_path = 'sentiment_result/textbolb_sentiment.csv'\n",
    "df_textbolb.to_csv(textbolb_path, index=False)"
   ]
  },
  {
   "cell_type": "markdown",
   "metadata": {},
   "source": [
    "# AFINN"
   ]
  },
  {
   "cell_type": "code",
   "execution_count": 79,
   "metadata": {},
   "outputs": [],
   "source": [
    "from afinn import Afinn\n",
    "# Initialize the sentiment analyzer\n",
    "afinn = Afinn()"
   ]
  },
  {
   "cell_type": "code",
   "execution_count": 80,
   "metadata": {},
   "outputs": [],
   "source": [
    "# Using texts for sentiment analysis\n",
    "neighborhood_score = {}\n",
    "for index, row in df.iterrows():\n",
    "    score = afinn.score(row['text'])\n",
    "    if row['neighborhood'] in neighborhood_score.keys():\n",
    "        neighborhood_score[row['neighborhood']] += score\n",
    "    else:\n",
    "        neighborhood_score[row['neighborhood']] = 0\n",
    "        neighborhood_score[row['neighborhood']] += score"
   ]
  },
  {
   "cell_type": "code",
   "execution_count": 81,
   "metadata": {},
   "outputs": [],
   "source": [
    "# take the avergae\n",
    "for area in neighborhood_score:\n",
    "    count = df[df['neighborhood'] == area].shape[0]\n",
    "    neighborhood_score[area] /= count"
   ]
  },
  {
   "cell_type": "code",
   "execution_count": 82,
   "metadata": {},
   "outputs": [],
   "source": [
    "# make dataframe\n",
    "df_afinn = pd.DataFrame(list(neighborhood_score.items()), columns=['Neighborhood', 'SentimentScore'])\n",
    "df_afinn = df_afinn.sort_values(by='SentimentScore',ascending = False).reset_index(drop=True)"
   ]
  },
  {
   "cell_type": "code",
   "execution_count": 83,
   "metadata": {},
   "outputs": [],
   "source": [
    "# save\n",
    "afinn_path = 'sentiment_result/afinn_sentiment.csv'\n",
    "df_afinn.to_csv(afinn_path, index=False)"
   ]
  },
  {
   "cell_type": "markdown",
   "metadata": {},
   "source": [
    "# Some Idea\n",
    "1. Nerual Network\n",
    "- This seems feasible, but it would be an classification problem. We can weight the class get from the classfication and score from the previous analysis.\n",
    "2. Transformers\n",
    "- This is the most powerful one, I will try to inplement it if I have time."
   ]
  }
 ],
 "metadata": {
  "kernelspec": {
   "display_name": "base",
   "language": "python",
   "name": "python3"
  },
  "language_info": {
   "codemirror_mode": {
    "name": "ipython",
    "version": 3
   },
   "file_extension": ".py",
   "mimetype": "text/x-python",
   "name": "python",
   "nbconvert_exporter": "python",
   "pygments_lexer": "ipython3",
   "version": "3.12.2"
  }
 },
 "nbformat": 4,
 "nbformat_minor": 2
}
